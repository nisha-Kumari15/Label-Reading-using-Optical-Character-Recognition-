{
 "cells": [
  {
   "cell_type": "code",
   "execution_count": null,
   "id": "prerequisite-scott",
   "metadata": {},
   "outputs": [],
   "source": [
    "try:\n",
    "    from PIL import Image\n",
    "except ImportError:\n",
    "    import Image\n",
    "    \n",
    "import pytesseract\n",
    "pytesseract.pytesseract.tesseract_cmd = r\"C:\\Program Files\\Tesseract-OCR\\tesseract.exe\"\n",
    "\n",
    "def recText(filename):\n",
    "    text = pytesseract.image_to_string(Image.open(filename))\n",
    "    return text\n",
    "\n",
    "\n",
    "info = recText('sample.jpg')\n",
    "print(info)\n",
    "\n",
    "file = open(\"result.txt\",\"w\")\n",
    "file.write(info)\n",
    "file.close()\n",
    "print(\"Written Successful\")\n"
   ]
  },
  {
   "cell_type": "code",
   "execution_count": null,
   "id": "dynamic-cache",
   "metadata": {},
   "outputs": [],
   "source": []
  }
 ],
 "metadata": {
  "kernelspec": {
   "display_name": "Python 3",
   "language": "python",
   "name": "python3"
  },
  "language_info": {
   "codemirror_mode": {
    "name": "ipython",
    "version": 3
   },
   "file_extension": ".py",
   "mimetype": "text/x-python",
   "name": "python",
   "nbconvert_exporter": "python",
   "pygments_lexer": "ipython3",
   "version": "3.8.6rc1"
  }
 },
 "nbformat": 4,
 "nbformat_minor": 5
}
